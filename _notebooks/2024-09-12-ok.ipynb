{
 "cells": [
  {
   "cell_type": "markdown",
   "metadata": {},
   "source": [
    "---\n",
    "layout: post\n",
    "title: My notebook\n",
    "description: This is my notebook\n",
    "permalink: posts/ok\n",
    "comments: true\n",
    "---"
   ]
  },
  {
   "cell_type": "markdown",
   "metadata": {},
   "source": [
    "# Jupyter Notebook for Project\n",
    "---\n",
    "layout: page  \n",
    "title: Jupyter_NB  \n",
    "permalink: /Jupyter_NB/  \n",
    "---\n",
    "\n",
    "This is a Jupyter Notebook created for the project. You can add your description here.\n",
    "\n",
    "# Example Python code\n",
    "import numpy as np\n",
    "import matplotlib.pyplot as plt\n",
    "\n",
    "# Create some sample data\n",
    "x = np.linspace(0, 10, 100)\n",
    "y = np.sin(x)\n",
    "\n",
    "# Plot the data\n",
    "plt.plot(x, y)\n",
    "plt.title('Sine Wave Example')\n",
    "plt.xlabel('X Axis')\n",
    "plt.ylabel('Y Axis')\n",
    "plt.show()\n",
    "\n",
    "## Additional Information\n",
    "You can add any notes, links, or explanations here.\n",
    "\n",
    "# My Jupyter Notebook Page\n",
    "\n",
    "This is a page with Python code.\n",
    "\n",
    "```{code-cell}\n",
    "print(\"Hello, World!\")\n",
    " "
   ]
  },
  {
   "cell_type": "code",
   "execution_count": null,
   "metadata": {
    "vscode": {
     "languageId": "plaintext"
    }
   },
   "outputs": [],
   "source": []
  },
  {
   "cell_type": "markdown",
   "metadata": {},
   "source": [
    "print(\"Hello World\")"
   ]
  }
 ],
 "metadata": {
  "language_info": {
   "name": "python"
  }
 },
 "nbformat": 4,
 "nbformat_minor": 2
}
