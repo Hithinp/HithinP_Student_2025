{
 "cells": [
  {
   "cell_type": "markdown",
   "metadata": {},
   "source": [
    "---\n",
    "toc: false\n",
    "comments: true\n",
    "layout: post\n",
    "title: 3.8.2 Use While loops to print strings with booleans\n",
    "description: Learn to use while loops to repeat code\n",
    "permalink: /csp/big-idea/p3/3-8-2\n",
    "categories: [CSP Big Ideas]\n",
    "author:  Hithin\n",
    "menu: nav/csp_units/csp_unit3_p3_fundamentals.html\n",
    "---"
   ]
  },
  {
   "cell_type": "markdown",
   "metadata": {},
   "source": [
    "# Basic Overview\n",
    "- A **while loop** is a programming structure that allows us to execute a block of code repeatedly as long as a condition is true.\n",
    "- This can be particularly useful for counting or accumulating values.\n",
    "- In this example, we will use a while loop to display messages a specific number of times."
   ]
  },
  {
   "cell_type": "code",
   "execution_count": null,
   "metadata": {},
   "outputs": [],
   "source": [
    "# count ← 1\n",
    "# increasing ← TRUE\n",
    "#\n",
    "# WHILE increasing IS TRUE:\n",
    "#     DISPLAY count\n",
    "#     count ← count + 1\n",
    "#     IF count IS GREATER THAN 5:\n",
    "#         increasing ← FALSE\n",
    "# END WHILE\n",
    "#\n",
    "# WHILE increasing IS FALSE:\n",
    "#     count ← count - 1\n",
    "#     DISPLAY count\n",
    "#     IF count IS EQUAL TO 1:\n",
    "#         increasing ← TRUE\n",
    "# END WHILE\n",
    "\n",
    "\n",
    "i = 1  # Start counting from 1\n",
    "increasing = True  # Initialize the boolean flag\n",
    "\n",
    "# Count up from 1 to 5\n",
    "while increasing:\n",
    "    print(i)\n",
    "    i += 1\n",
    "    if i > 5:\n",
    "        increasing = False  # Stop increasing once 5 is reached\n",
    "\n",
    "# Count down from 5 to 1\n",
    "while not increasing:\n",
    "    i -= 1\n",
    "    print(i)\n",
    "    if i == 1:\n",
    "        increasing = True  # Reset once 1 is reached\n",
    "\n",
    "#Problem:\n",
    "#Use a boolean value to indefinitely print a string, or a message of your personal choice.\n",
    "\n"
   ]
  }
 ],
 "metadata": {
  "language_info": {
   "name": "python"
  }
 },
 "nbformat": 4,
 "nbformat_minor": 2
}
