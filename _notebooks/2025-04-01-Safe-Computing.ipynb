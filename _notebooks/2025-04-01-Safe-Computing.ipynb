{
 "cells": [
  {
   "cell_type": "code",
   "execution_count": null,
   "metadata": {},
   "outputs": [],
   "source": [
    "import random\n",
    "\n",
    "def caesar_cipher(text, shift, mode):\n",
    "    result = \"\"\n",
    "    for char in text:\n",
    "        if char.isalpha():  # Encrypts only letters\n",
    "            shift_amount = shift if mode == \"encrypt\" else -shift\n",
    "            new_char = chr(((ord(char.lower()) - 97 + shift_amount) % 26) + 97)\n",
    "            result += new_char.upper() if char.isupper() else new_char\n",
    "        else:\n",
    "            result += char  # Keeps spaces and punctuation unchanged\n",
    "    return result\n",
    "\n",
    "# Get user input\n",
    "mode = input(\"Do you want to encrypt or decrypt? \").strip().lower()\n",
    "message = input(\"Enter your message: \")\n",
    "shift_input = input(\"Enter shift value (or type 'random'): \").strip().lower()\n",
    "\n",
    "# Generate a random shift if \"random\" is entered\n",
    "shift = random.randint(1, 25) if shift_input == \"random\" else int(shift_input)\n",
    "\n",
    "print(f\"Using shift value: {shift}\")  # Display the shift used\n",
    "output = caesar_cipher(message, shift, mode)\n",
    "print(f\"Result: {output}\")\n"
   ]
  },
  {
   "cell_type": "code",
   "execution_count": null,
   "metadata": {},
   "outputs": [],
   "source": []
  }
 ],
 "metadata": {
  "language_info": {
   "name": "python"
  }
 },
 "nbformat": 4,
 "nbformat_minor": 2
}
