{
 "cells": [
  {
   "cell_type": "raw",
   "metadata": {
    "vscode": {
     "languageId": "raw"
    }
   },
   "source": [
    "---\n",
    "toc: False\n",
    "comments: True\n",
    "layout: post\n",
    "title: 2021 Practice Exam MCQ\n",
    "permalink: MCQ-3\n",
    "author: Hithin\n",
    "---"
   ]
  },
  {
   "cell_type": "markdown",
   "metadata": {},
   "source": [
    "<h2 style=\"color: #1b5e20;\">📊 AP CSP Practice MCQ Review – April 22</h2>\n",
    "\n",
    "<!-- Overall Score + Reflection -->\n",
    "<img src=\"{{site.baseurl}}/images/CSP_MCQ/Screenshot 2025-04-22 at 10.12.31 PM.jpeg\" alt=\"Screenshot 1\" style=\"width: 150%; margin-bottom: 10px; border: 2px solid #1b5e20; border-radius: 5px;\"> \n",
    "<span style=\"color: #388e3c;\">\n",
    "<p>I completed this AP CSP practice MCQ in <strong>1 hour and 57 minutes</strong>, which is under the 2-hour mark and shows progress in time management! ⏱️ The team teaching sessions really helped boost my performance. That said, I know there are still a few key areas that need improvement before exam day.</p>\n",
    "</span>\n",
    "\n",
    "<!-- What Went Well -->\n",
    "<img src=\"{{site.baseurl}}/images/CSP_MCQ/Screenshot 2025-04-22 at 10.16.05 PM.jpeg\" alt=\"Screenshot 2\" style=\"width: 150%; margin-bottom: 10px; border: 2px solid #1b5e20; border-radius: 5px;\"> \n",
    "<span style=\"color: #388e3c;\">\n",
    "<p>✨ Topics that went really well for me include: <strong>collaboration, program function and purpose, binary numbers, extracting numbers, and the internet</strong>. These are areas where I feel confident and am answering accurately and quickly. Reinforcing these strengths will help me save time on the exam.</p>\n",
    "</span>\n",
    "\n",
    "<!-- What Needs Work -->\n",
    "<img src=\"{{site.baseurl}}/images/CSP_MCQ/Screenshot 2025-04-22 at 10.16.25 PM.jpeg\" alt=\"Screenshot 3\" style=\"width: 150%; margin-bottom: 10px; border: 2px solid #c62828; border-radius: 5px;\"> \n",
    "<span style=\"color: #d32f2f;\">\n",
    "<p>🚨 The areas I struggled with were: <strong>data compression, mathematical expressions, strings, calling procedures, and random values</strong>. These required more mental effort, and because they were at the end of the test, my focus was reduced. These questions also took longer to finish, which means I need to stay alert and sharpen my pacing if I want to meet my goal of finishing under 1.5 hours.</p>\n",
    "</span>\n",
    "\n",
    "<!-- Specific Error: Game Moves -->\n",
    "<img src=\"{{site.baseurl}}/images/CSP_MCQ/Screenshot 2025-04-22 at 11.02.21 PM.jpeg\" alt=\"Screenshot 4\" style=\"width: 150%; margin-bottom: 10px; border: 2px solid #ef6c00; border-radius: 5px;\"> \n",
    "<span style=\"color: #f57c00;\">\n",
    "<p>😵‍💫 I was lacking focus here and miscounted the number of moves the piece made in the game simulation. I thought it moved three times, but it actually moved <strong>four times</strong>: 1 to yellow, 3 left to black, 1 right to green, 2 right to red. Since the counter increased each move, the correct count was 4, not 3.</p>\n",
    "</span>\n",
    "\n",
    "<!-- Specific Error: Drawing from Left to Right -->\n",
    "<img src=\"{{site.baseurl}}/images/CSP_MCQ/Screenshot 2025-04-22 at 11.05.24 PM.jpeg\" alt=\"Screenshot 5\" style=\"width: 150%; margin-bottom: 10px; border: 2px solid #ef6c00; border-radius: 5px;\"> \n",
    "<span style=\"color: #f57c00;\">\n",
    "<p>🎨 I chose Option C, which drew the correct vertical lines but in the <strong>wrong direction</strong>—from right to left. The intended design started from the left, so the visual output didn’t match. It was a directional logic error and reminds me to carefully compare expected vs. actual output in visual-based code.</p>\n",
    "</span>\n",
    "\n",
    "<!-- Specific Error: RANDOM() Call Issue -->\n",
    "<img src=\"{{site.baseurl}}/images/CSP_MCQ/Screenshot 2025-04-22 at 11.07.18 PM.jpeg\" alt=\"Screenshot 6\" style=\"width: 150%; margin-bottom: 10px; border: 2px solid #ef6c00; border-radius: 5px;\"> \n",
    "<span style=\"color: #f57c00;\">\n",
    "<p>🔄 I didn’t realize the issue was the <strong>double use of RANDOM(1, 4)</strong> in one loop iteration. The second RANDOM caused some iterations to be skipped when both IFs were false. I picked the option to swap lines, but what I should’ve done was replace the second IF with an <code>ELSE</code> to ensure every trial was counted properly and RANDOM was only used once per loop.</p>\n",
    "</span>\n",
    "\n",
    "<!-- Specific Error: End-of-Test Focus Drop -->\n",
    "<img src=\"{{site.baseurl}}/images/CSP_MCQ/Screenshot 2025-04-22 at 11.08.52 PM.jpeg\" alt=\"Screenshot 7\" style=\"width: 150%; margin-bottom: 10px; border: 2px solid #ef6c00; border-radius: 5px;\"> \n",
    "<span style=\"color: #f57c00;\">\n",
    "<p>😓 This was one of the last few questions, and my focus definitely dropped. I got confused by the structure and selected the wrong section of code. I’ll need to train myself to stay sharp even through the final stretch of the test.</p>\n",
    "</span>\n"
   ]
  }
 ],
 "metadata": {
  "language_info": {
   "name": "python"
  }
 },
 "nbformat": 4,
 "nbformat_minor": 2
}
