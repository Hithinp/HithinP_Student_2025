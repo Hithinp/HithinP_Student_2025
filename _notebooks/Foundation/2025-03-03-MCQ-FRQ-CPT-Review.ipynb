{
 "cells": [
  {
   "cell_type": "raw",
   "metadata": {
    "vscode": {
     "languageId": "raw"
    }
   },
   "source": [
    "---\n",
    "toc: false\n",
    "comments: true\n",
    "layout: post\n",
    "title: MCQ-FRQ-CPT-Review\n",
    "permalink: /MCQ-FRQ-CPT-Review\n",
    "author:  Hithin\n",
    "---"
   ]
  },
  {
   "cell_type": "markdown",
   "metadata": {},
   "source": [
    "<span style=\"background-color: lightblue; color: darkblue; font-size: 24px; padding: 3px; border-radius: 3px;\"><strong>MCQ</strong></span>\n",
    "\n",
    "<span style=\"color: darkgreen;\">\n",
    "Overall, I didn't do that bad on the MCQ, but there are definitely some topics that I need to improve on. While I was able to grasp many of the concepts, I noticed that there were certain areas where I felt less confident or struggled to recall key details. These topics need more attention so I can solidify my understanding and perform better next time. It's important to take note of these areas for improvement, as they will help me focus my study efforts moving forward and ensure I'm more prepared in the future. With a bit more practice and a deeper dive into those specific concepts, I’m confident I can enhance my knowledge and do even better in future assessments.\n",
    "</span>\n",
    "\n",
    "\n",
    "<img src=\"{{site.baseurl}}/images/CSP_MCQ/Screenshot 2025-03-03 at 6.06.17 PM.jpeg\" alt=\"Screenshot 1\" style=\"width: 150%; margin-bottom: 10px; border: 2px solid #1b5e20; border-radius: 5px;\"> \n",
    "<span style=\"color: #388e3c;\">\n",
    "\n",
    "<hr>\n",
    "\n",
    "<span style=\"color: darkgreen;\">\n",
    "Here are the skills that went well\n",
    "<img src=\"{{site.baseurl}}/images/CSP_MCQ/Screenshot 2025-03-03 at 5.53.47 PM.jpeg\" alt=\"Screenshot 1\" style=\"width: 150%; margin-bottom: 10px; border: 2px solid #1b5e20; border-radius: 5px;\"> \n",
    "<span style=\"color: #388e3c;\">\n",
    "</span>\n",
    "\n",
    "<hr>\n",
    "\n",
    "<span style=\"color: darkgreen;\">\n",
    "Here are the skills that didn't go well\n",
    "<img src=\"{{site.baseurl}}/images/CSP_MCQ/Screenshot 2025-03-03 at 5.54.13 PM.jpeg\" alt=\"Screenshot 1\" style=\"width: 150%; margin-bottom: 10px; border: 2px solid #1b5e20; border-radius: 5px;\"> \n",
    "<span style=\"color: #388e3c;\">\n",
    "</span>\n",
    "\n",
    "<hr>\n",
    "\n",
    "<span style=\"color: darkgreen;\">\n",
    "Here are the topics that went well\n",
    "<img src=\"{{site.baseurl}}/images/CSP_MCQ/Screenshot 2025-03-03 at 5.45.04 PM.jpeg\" alt=\"Screenshot 1\" style=\"width: 150%; margin-bottom: 10px; border: 2px solid #1b5e20; border-radius: 5px;\"> \n",
    "<span style=\"color: #388e3c;\">\n",
    "</span>\n",
    "\n",
    "\n",
    "<hr>\n",
    "\n",
    "<span style=\"color: darkgreen;\">\n",
    "Here are the topics that did not go well\n",
    "<img src=\"{{site.baseurl}}/images/CSP_MCQ/Screenshot 2025-03-03 at 5.44.44 PM.jpeg\" alt=\"Screenshot 1\" style=\"width: 150%; margin-bottom: 10px; border: 2px solid #1b5e20; border-radius: 5px;\"> \n",
    "<span style=\"color: #388e3c;\">\n",
    "</span>\n",
    "\n",
    "<hr>\n",
    "\n",
    "\n",
    "<span style=\"color: darkgreen;\">\n",
    "The main part that I need to get better at is COMPUTING SYSTEMS AND NETWORKS. \n",
    "<img src=\"{{site.baseurl}}/images/CSP_MCQ/Screenshot 2025-03-03 at 5.44.44 PM.jpeg\" alt=\"Screenshot 1\" style=\"width: 150%; margin-bottom: 10px; border: 2px solid #1b5e20; border-radius: 5px;\"> \n",
    "<span style=\"color: #388e3c;\">\n",
    "</span>\n",
    "\n",
    "<hr>"
   ]
  },
  {
   "cell_type": "markdown",
   "metadata": {},
   "source": [
    "<hr>"
   ]
  }
 ],
 "metadata": {
  "language_info": {
   "name": "python"
  }
 },
 "nbformat": 4,
 "nbformat_minor": 2
}
