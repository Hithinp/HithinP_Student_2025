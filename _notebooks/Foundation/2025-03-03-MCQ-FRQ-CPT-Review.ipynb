{
 "cells": [
  {
   "cell_type": "raw",
   "metadata": {
    "vscode": {
     "languageId": "raw"
    }
   },
   "source": [
    "---\n",
    "toc: false\n",
    "comments: true\n",
    "layout: post\n",
    "title: MCQ-FRQ-CPT-Review\n",
    "permalink: /MCQ-FRQ-CPT-Review\n",
    "author:  Hithin\n",
    "---"
   ]
  },
  {
   "cell_type": "markdown",
   "metadata": {},
   "source": [
    "<span style=\"background-color: lightblue; color: darkblue; font-size: 24px; padding: 3px; border-radius: 3px;\"><strong>MCQ</strong></span>\n",
    "\n",
    "<span style=\"color: darkgreen;\">\n",
    "Overall, I didn't do that bad on the MCQ, but there are definitely some topics that I need to improve on. While I was able to grasp many of the concepts, I noticed that there were certain areas where I felt less confident or struggled to recall key details. These topics need more attention so I can solidify my understanding and perform better next time. It's important to take note of these areas for improvement, as they will help me focus my study efforts moving forward and ensure I'm more prepared in the future. With a bit more practice and a deeper dive into those specific concepts, I’m confident I can enhance my knowledge and do even better in future assessments.\n",
    "</span>\n",
    "\n",
    "\n",
    "<img src=\"{{site.baseurl}}/images/CSP_MCQ/Screenshot 2025-03-03 at 6.06.17 PM.jpeg\" alt=\"Screenshot 1\" style=\"width: 150%; margin-bottom: 10px; border: 2px solid #1b5e20; border-radius: 5px;\"> \n",
    "<span style=\"color: #388e3c;\">\n",
    "\n",
    "<hr>\n",
    "\n",
    "<span style=\"color: darkgreen;\">\n",
    "Here are the skills that went well\n",
    "<img src=\"{{site.baseurl}}/images/CSP_MCQ/Screenshot 2025-03-03 at 5.53.47 PM.jpeg\" alt=\"Screenshot 1\" style=\"width: 150%; margin-bottom: 10px; border: 2px solid #1b5e20; border-radius: 5px;\"> \n",
    "<span style=\"color: #388e3c;\">\n",
    "</span>\n",
    "\n",
    "<hr>\n",
    "\n",
    "<span style=\"color: darkgreen;\">\n",
    "Here are the skills that didn't go well\n",
    "<img src=\"{{site.baseurl}}/images/CSP_MCQ/Screenshot 2025-03-03 at 5.54.13 PM.jpeg\" alt=\"Screenshot 1\" style=\"width: 150%; margin-bottom: 10px; border: 2px solid #1b5e20; border-radius: 5px;\"> \n",
    "<span style=\"color: #388e3c;\">\n",
    "</span>\n",
    "\n",
    "<hr>\n",
    "\n",
    "<span style=\"color: darkgreen;\">\n",
    "Here are the topics that went well\n",
    "<img src=\"{{site.baseurl}}/images/CSP_MCQ/Screenshot 2025-03-03 at 5.45.04 PM.jpeg\" alt=\"Screenshot 1\" style=\"width: 150%; margin-bottom: 10px; border: 2px solid #1b5e20; border-radius: 5px;\"> \n",
    "<span style=\"color: #388e3c;\">\n",
    "</span>\n",
    "\n",
    "\n",
    "<hr>\n",
    "\n",
    "<span style=\"color: darkgreen;\">\n",
    "Here are the topics that did not go well\n",
    "<img src=\"{{site.baseurl}}/images/CSP_MCQ/Screenshot 2025-03-03 at 5.44.44 PM.jpeg\" alt=\"Screenshot 1\" style=\"width: 150%; margin-bottom: 10px; border: 2px solid #1b5e20; border-radius: 5px;\"> \n",
    "<span style=\"color: #388e3c;\">\n",
    "</span>\n",
    "\n",
    "<hr>\n",
    "\n",
    "\n",
    "<span style=\"color: darkgreen;\">\n",
    "The main part that I need to get better at is COMPUTING SYSTEMS AND NETWORKS. \n",
    "<img src=\"{{site.baseurl}}/images/CSP_MCQ/Screenshot 2025-03-03 at 5.44.44 PM.jpeg\" alt=\"Screenshot 1\" style=\"width: 150%; margin-bottom: 10px; border: 2px solid #1b5e20; border-radius: 5px;\"> \n",
    "<span style=\"color: #388e3c;\">\n",
    "</span>\n",
    "\n",
    "<hr>"
   ]
  },
  {
   "cell_type": "markdown",
   "metadata": {},
   "source": [
    "<hr>"
   ]
  },
  {
   "cell_type": "markdown",
   "metadata": {},
   "source": [
    "<span style=\"background-color: lightblue; color: darkblue; font-size: 24px; padding: 3px; border-radius: 3px;\"><strong>FRQ</strong></span>"
   ]
  },
  {
   "cell_type": "code",
   "execution_count": null,
   "metadata": {
    "vscode": {
     "languageId": "javascript"
    }
   },
   "outputs": [],
   "source": [
    "function analyzeMood(message) {\n",
    "    for (let keyword of selfHarmKeywords) {  // Iteration\n",
    "        if (message.toLowerCase().includes(keyword)) {  // Selection\n",
    "            userMood = \"distressed\";  // Updates state based on condition\n",
    "            console.warn(\"Potential self-harm message detected.\");\n",
    "            break;  // Stops loop if condition is met\n",
    "        }\n",
    "    }\n",
    "}\n",
    "\n",
    "// Defines a procedure name (analyzeMood) and return type (updates userMood)\n",
    "// Uses parameters (message) affecting functionality\n",
    "// Implements sequencing (processing message), selection (if condition), and iteration (for loop)\n",
    "// This function detects specific keywords and updates userMood, influencing chatbot behavior."
   ]
  },
  {
   "cell_type": "code",
   "execution_count": null,
   "metadata": {
    "vscode": {
     "languageId": "javascript"
    }
   },
   "outputs": [],
   "source": [
    "const selfHarmKeywords = [\"hurt myself\", \"self-harm\", \"suicide\", \"cutting\", \"end it all\", \"worthless\", \"hopeless\"];\n",
    "//This is a list (array) used to manage complexity.\n",
    "//It helps detect self-harm messages.\n",
    "\n",
    "function analyzeMood(message) {\n",
    "    for (let keyword of selfHarmKeywords) {  // Iterating through the list\n",
    "        if (message.toLowerCase().includes(keyword)) { // Accessing list elements\n",
    "            userMood = \"distressed\";\n",
    "            console.warn(\"Potential self-harm message detected.\");\n",
    "            break;\n",
    "        }\n",
    "    }\n",
    "}\n",
    "\n",
    "//Shows how the list is used: It loops through the keywords and checks if the message contains any of them.\n",
    "//Implements iteration (for loop).\n",
    "//Uses selection (if condition to check for matches)."
   ]
  },
  {
   "cell_type": "markdown",
   "metadata": {},
   "source": [
    "<hr>"
   ]
  },
  {
   "cell_type": "markdown",
   "metadata": {},
   "source": [
    "<!-- Plan of Action Section -->\n",
    "<div style=\"margin-top: 20px; background-color: #e8f5e9; padding: 15px; border-radius: 10px;\">\n",
    "    <h2 style=\"color: #2e7d32; font-family: 'Times New Roman', sans-serif;\">Plan of Action to Improve My AP CSP Exam Score</h2>\n",
    "    <p style=\"font-size: 18px; color: #1b5e20;\">\n",
    "        <strong>Understand Key Concepts:</strong>\n",
    "        <ul style=\"margin-left: 20px;\">\n",
    "            <li>Review programming fundamentals, algorithms, and data analysis.</li>\n",
    "            <li>Utilize AP CSP prep books, online resources, and classroom notes.</li>\n",
    "        </ul>\n",
    "        <strong>Practice Multiple-Choice Questions:</strong>\n",
    "        <ul style=\"margin-left: 20px;\">\n",
    "            <li>Complete past AP CSP exam questions for familiarity with question patterns.</li>\n",
    "            <li>Use timed quizzes to simulate test conditions.</li>\n",
    "        </ul>\n",
    "        <strong>Focus on the Create Performance Task:</strong>\n",
    "        <ul style=\"margin-left: 20px;\">\n",
    "            <li>Follow the rubric carefully to meet all requirements.</li>\n",
    "            <li>Test and debug the program thoroughly.</li>\n",
    "            <li>Document the development process clearly and concisely.</li>\n",
    "        </ul>\n",
    "        <strong>Develop a Study Schedule:</strong>\n",
    "        <ul style=\"margin-left: 20px;\">\n",
    "            <li>Dedicate time daily to review concepts and practice tasks.</li>\n",
    "            <li>Alternate between multiple-choice and performance tasks for balanced preparation.</li>\n",
    "        </ul>\n",
    "        <strong>Seek Feedback and Guidance:</strong>\n",
    "        <ul style=\"margin-left: 20px;\">\n",
    "            <li>Discuss doubts with teachers or peers.</li>\n",
    "            <li>Get feedback on Create Task drafts to improve quality.</li>\n",
    "        </ul>\n",
    "        <strong>Simulate Full Exams:</strong>\n",
    "        <ul style=\"margin-left: 20px;\">\n",
    "            <li>Take practice exams under timed conditions to build confidence.</li>\n",
    "            <li>Analyze mistakes and address weak areas.</li>\n",
    "        </ul>\n",
    "    </p>\n",
    "</div>\n"
   ]
  }
 ],
 "metadata": {
  "language_info": {
   "name": "python"
  }
 },
 "nbformat": 4,
 "nbformat_minor": 2
}
