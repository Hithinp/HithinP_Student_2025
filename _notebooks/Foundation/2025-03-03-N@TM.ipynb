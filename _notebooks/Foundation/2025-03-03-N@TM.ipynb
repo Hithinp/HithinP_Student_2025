{
 "cells": [
  {
   "cell_type": "raw",
   "metadata": {
    "vscode": {
     "languageId": "raw"
    }
   },
   "source": [
    "---\n",
    "toc: false\n",
    "comments: true\n",
    "layout: post\n",
    "title: N@TM \n",
    "permalink: /N@TM\n",
    "author:  Hithin\n",
    "---"
   ]
  },
  {
   "cell_type": "markdown",
   "metadata": {},
   "source": [
    "\n",
    "<span style=\"background-color: lightblue; color: darkblue; font-size: 18px; padding: 3px; border-radius: 3px;\"><strong>Night at the Museum was an incredibly engaging and exciting experience. \n",
    "  It was amazing to showcase our projects live, sharing all the hard work and effort we had put into them over time. \n",
    "  Seeing people interact with what we created and explaining the technical aspects behind our work made the event feel even more rewarding. \n",
    "  The atmosphere was filled with creativity and innovation, as each project reflected the dedication and passion of its creator. \n",
    "  Overall, it was a fantastic opportunity to celebrate our achievements and gain valuable feedback from our peers and visitors.</strong></span>\n",
    "<span style=\"color: darkgreen;\">"
   ]
  },
  {
   "cell_type": "markdown",
   "metadata": {},
   "source": [
    "<span style=\"background-color: lightblue; color: darkblue; font-size: 36px; padding: 3px; border-radius: 3px;\"><strong> N@TM Feedback</strong></span>\n",
    "<span style=\"color: darkgreen;\">"
   ]
  },
  {
   "cell_type": "markdown",
   "metadata": {},
   "source": [
    "<span style=\"color: darkgreen;\">\n",
    "\n",
    "| Timestamp           | What I Liked                                        | What Could Be Improved                                     | Suggestions for Presentation                      | Rating |\n",
    "|---------------------|--------------------------------------------------|--------------------------------------------------|--------------------------------------------------|--------|\n",
    "| 2/27/2025 18:27:17 | The UI is very user-friendly                     | Very long drop-down, hard to interact with       | Multiple presenters for demos & questions       | 9      |\n",
    "| 2/27/2025 18:33:45 | Liked the UI and CRUD functionality emphasis     | Theme was a little dark for a self-motivation site | Need more structure in the presentation         | 9     |\n",
    "| 2/27/2025 18:34:44 | Cohesive and looks nice                          | Make system UI better and user-friendly          | Talk louder                                     | 9      |\n",
    "| 2/27/2025 18:35:12 | Good UI for data input and storage, plus Admin portal | Slight improvement needed in Admin portal   | Make it more engaging                           | 10      |\n",
    "| 2/27/2025 18:36:25 | I like the colors                                | Didn't see anything too bad  | Demo can be slightly less chaotic               | 10     |\n",
    "| 2/27/2025 18:36:27 | It's pretty?                                    | Didn't see anything bad                          | Demo can be greatly improved and less chaotic   | 9      |\n",
    "| 2/27/2025 18:36:30 | Nice, clean design; interesting concept (Striver) | Some features are similar, add more impactful ones | Be more organized, hard to hear at times        | 10      |\n",
    "| 2/27/2025 19:39:55 | The color and theme                             | Add more images                                  |                                                  | 10     |\n",
    "| 2/27/2025 21:02:12 | Styled site well with vertical navbar            | Features are basic, consider adding external APIs | Nothing, it was pretty good                     | 10     |\n",
    "| 3/1/2025 21:09:04 | UI matches well with the site                    | One of my favorite websites seen so far      | Be more organized when explaining features      | 10      |\n",
    "\n",
    "### **Key Takeaways**  \n",
    "\n",
    "- **Strong UI Appeal** – Users liked the clean design, colors, and vertical navbar.  \n",
    "- **Improve User-Friendliness** – UI needs refinement; long drop-downs were a concern.  \n",
    "- **Better Presentation Structure** – More organization, multiple presenters, and clearer demos needed.  \n",
    "- **Smoother Demo Execution** – Reduce chaos, speak louder, and improve clarity.  \n",
    "- **Expand Features** – Add impactful functionalities like external APIs.  \n",
    "- **Theme & Accessibility** – Consider a lighter theme and add a \"help\" button.  \n",
    "- **CRUD & Admin Features Well-Received** – Users liked the data input and management tools.  \n",
    "\n",
    "### **Next Steps**  \n",
    "- Refine UI  \n",
    "- Improve presentation flow  \n",
    "- Enhance features  \n",
    "- Ensure clear demos  \n"
   ]
  },
  {
   "cell_type": "markdown",
   "metadata": {},
   "source": [
    "<span style=\"background-color: lightblue; color: darkblue; font-size: 36px; padding: 3px; border-radius: 3px;\"><strong> Some projects that intrested me were...</strong></span>\n",
    "<span style=\"color: darkgreen;\">\n",
    "\n",
    "<img src=\"{{site.baseurl}}/images/CSP_MCQ/Screenshot 2025-03-03 at 5.11.09 PM.jpeg\" alt=\"Screenshot 1\" style=\"width: 80%; margin-bottom: 10px; border: 2px solid #1b5e20; border-radius: 5px;\"> \n",
    "<span style=\"color: #388e3c;\">\n",
    "The project is a stock investing game similar to Investopedia’s simulator, designed to provide users with a realistic yet risk-free trading experience. It allows players to buy and sell stocks, track portfolio performance, and analyze market trends in a simulated environment. By engaging with the platform, users can develop investment strategies, gain financial literacy, and better understand how the stock market operates. The game serves as an educational tool, making complex financial concepts more accessible through interactive learning.\n",
    "</span>\n",
    "\n",
    "\n",
    "<hr>\n",
    "\n",
    "<img src=\"{{site.baseurl}}/images/CSP_MCQ/Screenshot 2025-03-03 at 5.11.25 PM.jpeg\" alt=\"Screenshot 1\" style=\"width: 80%; margin-bottom: 10px; border: 2px solid #1b5e20; border-radius: 5px;\"> \n",
    "<span style=\"color: #388e3c;\">\n",
    "Neptune serves as a gateway to a dynamic student community where collaboration and connection take center stage. Equipped with features such as an AI chatbot, class lists, chatrooms, a friends list, and customizable themes, Neptune creates an engaging environment that encourages interaction and academic support. By integrating these tools, the platform fosters a space where students can communicate, share knowledge, and personalize their experience, ultimately enhancing their learning journey and social connections.\n",
    "</span>\n",
    "\n",
    "<hr>\n",
    "\n",
    "<img src=\"{{site.baseurl}}/images/CSP_MCQ/Screenshot 2025-03-03 at 5.11.35 PM.jpeg\" alt=\"Screenshot 1\" style=\"width: 80%; margin-bottom: 10px; border: 2px solid #1b5e20; border-radius: 5px;\"> \n",
    "<span style=\"color: #388e3c;\">\n",
    "The project is a website built around binary functions, designed to enhance users' understanding of binary concepts through interactive features. It includes Binary Trials, two engaging games that test and refine users' knowledge of binary history and binary-to-decimal conversions. Additionally, Binary Overflow functions similarly to Reddit, providing a space for users to communicate and discuss binary-related topics. A Leaderboard serves as a tracking tool, allowing users to monitor their progress and comprehension. Together, these features create an immersive learning experience, helping users develop a strong foundation in binary that they can apply in the future.\n",
    "</span>\n",
    "\n",
    "<hr>\n",
    "\n",
    "\n",
    "<img src=\"{{site.baseurl}}/images/CSP_MCQ/Screenshot 2025-03-03 at 5.11.51 PM.jpeg\" alt=\"Screenshot 1\" style=\"width: 80%; margin-bottom: 10px; border: 2px solid #1b5e20; border-radius: 5px;\"> \n",
    "<span style=\"color: #388e3c;\">\n",
    "The Student Table Learning Project is designed to optimize efficiency for teachers by providing a structured and intuitive way to monitor their students. This system allows educators to easily view student profiles, ratings, assigned tasks, and progress within the classroom. With a clear and organized layout, teachers can quickly assess each student’s performance, engagement levels, and areas needing improvement. Additionally, the platform offers a real-time view of student locations within the classroom, enabling better supervision and collaboration. By integrating these features, the project enhances the teaching experience, making classroom management more effective and streamlined.\n",
    "</span>\n",
    "\n",
    "\n"
   ]
  }
 ],
 "metadata": {
  "language_info": {
   "name": "python"
  }
 },
 "nbformat": 4,
 "nbformat_minor": 2
}
