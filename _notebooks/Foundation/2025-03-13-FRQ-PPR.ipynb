{
 "cells": [
  {
   "cell_type": "markdown",
   "metadata": {},
   "source": [
    "---\n",
    "toc: false\n",
    "comments: true\n",
    "layout: post\n",
    "title: FRQ-PPR\n",
    "permalink: /FRQ-PPR\n",
    "author:  Hithin\n",
    "---"
   ]
  },
  {
   "cell_type": "markdown",
   "metadata": {},
   "source": [
    "<span style=\"background-color: lightblue; color: darkblue; font-size: 24px; padding: 3px; border-radius: 3px;\"><strong>FRQ</strong></span>"
   ]
  },
  {
   "cell_type": "markdown",
   "metadata": {},
   "source": [
    "<html lang=\"en\">\n",
    "<head>\n",
    "    <meta charset=\"UTF-8\">\n",
    "    <meta name=\"viewport\" content=\"width=device-width, initial-scale=1.0\">\n",
    "    <title>Checklist</title>\n",
    "    <style>\n",
    "        body {\n",
    "            font-family: Arial, sans-serif;\n",
    "        }\n",
    "    </style>\n",
    "</head>\n",
    "<body>\n",
    "\n",
    "    <p><strong>i.</strong> The first program code segment must be a student-developed procedure that:</p>\n",
    "    <ul>\n",
    "        <li><input type=\"checkbox\"> Defines the procedure’s name and return type (if necessary)</li>\n",
    "        <li><input type=\"checkbox\"> Contains and uses one or more parameters that have an effect on the functionality of the procedure</li>\n",
    "        <li><input type=\"checkbox\"> Implements an algorithm that includes sequencing, selection, and iteration</li>\n",
    "    </ul>\n",
    "\n",
    "</body>\n",
    "</html>\n"
   ]
  },
  {
   "cell_type": "code",
   "execution_count": null,
   "metadata": {
    "vscode": {
     "languageId": "javascript"
    }
   },
   "outputs": [],
   "source": [
    "function analyzeMood(message) {\n",
    "    for (let keyword of selfHarmKeywords) {\n",
    "        if (message.toLowerCase().includes(keyword)) {\n",
    "            userMood = \"distressed\";\n",
    "            console.warn(\"Potential self-harm message detected.\");\n",
    "            break;\n",
    "        }\n",
    "    }\n",
    "}"
   ]
  },
  {
   "cell_type": "markdown",
   "metadata": {},
   "source": [
    "<ul>\n",
    "  <li><strong>Defines the procedure’s name and return type:</strong>  \n",
    "    The function <code>analyzeMood</code> is clearly named and modifies the global variable <code>userMood</code> instead of returning a value.</li>\n",
    "  \n",
    "  <li><strong>Contains and uses parameters:</strong>  \n",
    "    The parameter <code>message</code> directly affects the function. If it contains concerning keywords, the mood changes to \"distressed.\"</li>\n",
    "  \n",
    "  <li><strong>Implements sequencing, selection, and iteration:</strong>  \n",
    "    The function iterates through <code>selfHarmKeywords</code>, uses an <code>if</code> statement to check for matches, and updates <code>userMood</code> accordingly.</li>\n",
    "</ul>\n"
   ]
  },
  {
   "cell_type": "markdown",
   "metadata": {},
   "source": [
    "<hr>"
   ]
  },
  {
   "cell_type": "markdown",
   "metadata": {},
   "source": [
    "\n",
    "<html lang=\"en\">\n",
    "<head>\n",
    "    <meta charset=\"UTF-8\">\n",
    "    <meta name=\"viewport\" content=\"width=device-width, initial-scale=1.0\">\n",
    "    <title>Formatted Text</title>\n",
    "    <style>\n",
    "        .blue {\n",
    "            color: blue;\n",
    "            font-weight: bold;\n",
    "        }\n",
    "    </style>\n",
    "</head>\n",
    "<body>\n",
    "    <p><span class=\"blue\">ii.</span> The second program code segment must show where your student-developed procedure is being called in your program.</p>\n",
    "</body>\n",
    "</html>\n"
   ]
  },
  {
   "cell_type": "code",
   "execution_count": null,
   "metadata": {
    "vscode": {
     "languageId": "javascript"
    }
   },
   "outputs": [],
   "source": [
    "document.getElementById('messageBox').addEventListener('keypress', async function(event) {\n",
    "    if (event.key === 'Enter') {\n",
    "        event.preventDefault();\n",
    "        const userMessage = event.target.value;\n",
    "\n",
    "        analyzeMood(userMessage);"
   ]
  },
  {
   "cell_type": "markdown",
   "metadata": {},
   "source": [
    "<ul>\n",
    "  <li><strong>Calls the student-developed procedure:</strong>  \n",
    "    The function <code>analyzeMood</code> is called inside the <code>keypress</code> event listener when the user presses \"Enter.\"</li>\n",
    "  \n",
    "  <li><strong>Uses the function's parameter:</strong>  \n",
    "    The user’s input (<code>userMessage</code>) is passed as an argument to <code>analyzeMood</code>, allowing it to analyze the message.</li>\n",
    "  \n",
    "  <li><strong>Triggers the procedure based on user action:</strong>  \n",
    "    The event listener ensures the function is only called when the user submits a message, making it contextually relevant.</li>\n",
    "</ul>\n"
   ]
  },
  {
   "cell_type": "markdown",
   "metadata": {},
   "source": [
    "<hr>"
   ]
  },
  {
   "cell_type": "markdown",
   "metadata": {},
   "source": [
    "\n",
    "<html lang=\"en\">\n",
    "<head>\n",
    "    <meta charset=\"UTF-8\">\n",
    "    <meta name=\"viewport\" content=\"width=device-width, initial-scale=1.0\">\n",
    "    <title>Formatted Text</title>\n",
    "    <style>\n",
    "        .blue-bold {\n",
    "            color: blue;\n",
    "            font-weight: bold;\n",
    "        }\n",
    "        .blue {\n",
    "            color: blue;\n",
    "        }\n",
    "    </style>\n",
    "</head>\n",
    "<body>\n",
    "    <p><span class=\"blue-bold\">List:</span> Capture and paste two program code segments you developed during \n",
    "    the administration of this task that contain a list (or other collection type) being used to manage complexity in your program.</p>\n",
    "    \n",
    "    <p><span class=\"blue\">i.</span> The first program code segment must show how data have been stored in the list.</p>\n",
    "</body>\n",
    "</html>\n"
   ]
  },
  {
   "cell_type": "code",
   "execution_count": null,
   "metadata": {
    "vscode": {
     "languageId": "javascript"
    }
   },
   "outputs": [],
   "source": [
    "const selfHarmKeywords = [\"hurt myself\", \"self-harm\", \"suicide\", \"cutting\", \"end it all\", \"worthless\", \"hopeless\"];\n",
    "let userMood = \"neutral\"; \n",
    "\n",
    "\n",
    "function analyzeMood(message) {\n",
    "    for (let keyword of selfHarmKeywords) {\n",
    "        if (message.toLowerCase().includes(keyword)) {\n",
    "            userMood = \"distressed\";\n",
    "            console.warn(\"Potential self-harm message detected.\");\n",
    " \n",
    "            break;\n",
    "        }\n",
    "    }"
   ]
  },
  {
   "cell_type": "markdown",
   "metadata": {},
   "source": [
    "<ul>\n",
    "  <li><strong>Example of list usage:</strong>  \n",
    "    The list <code>selfHarmKeywords</code> contains phrases related to self-harm. The function <code>analyzeMood</code> iterates through this list to check if the user’s message contains any concerning keywords.</li>\n",
    "  \n",
    "  <li><strong>Purpose of the list:</strong>  \n",
    "    The list helps simplify the code by storing multiple keywords in one place instead of using multiple <code>if</code> statements. This improves code readability and maintainability.</li>\n",
    "  \n",
    "  <li><strong>Planned complexity improvement:</strong>  \n",
    "    Although not implemented due to time constraints, I planned to enhance the detection system by using <code>regex</code> (regular expressions). This would allow broader and more flexible pattern matching, capturing variations of concerning messages beyond the exact keywords.</li>\n",
    "  \n",
    "  <li><strong>Impact of the list:</strong>  \n",
    "    Without the list, the code would require a separate condition for each keyword, making it lengthy and inefficient. The list provides a scalable and clear approach to handling multiple keywords with minimal code repetition.</li>\n",
    "</ul>\n"
   ]
  },
  {
   "cell_type": "markdown",
   "metadata": {},
   "source": [
    "<hr>"
   ]
  },
  {
   "cell_type": "markdown",
   "metadata": {},
   "source": [
    "<p>\n",
    "  <strong style=\"color:blue;\">ii.</strong> The second program code segment must show the data in the same list being used, \n",
    "  such as creating new data from the existing <span style=\"color:blue;\">data or accessing multiple elements in the list</span>, \n",
    "  as part of fulfilling the program’s purpose.\n",
    "</p>\n"
   ]
  },
  {
   "cell_type": "code",
   "execution_count": null,
   "metadata": {
    "vscode": {
     "languageId": "javascript"
    }
   },
   "outputs": [],
   "source": [
    "function analyzeMood(message) {\n",
    "    for (let keyword of selfHarmKeywords) {\n",
    "        if (message.toLowerCase().includes(keyword)) {\n",
    "            userMood = \"distressed\";\n",
    "            console.warn(\"Potential self-harm message detected.\");\n",
    "\n",
    "            break;\n",
    "        }\n",
    "    }\n",
    "}\n"
   ]
  },
  {
   "cell_type": "markdown",
   "metadata": {},
   "source": [
    "<ul>\n",
    "  <li><strong>Use of the list:</strong>  \n",
    "    This function <code>analyzeMood</code> actively uses the <code>selfHarmKeywords</code> list by iterating through each keyword with a <code>for...of</code> loop.</li>\n",
    "  \n",
    "  <li><strong>Purpose of the iteration:</strong>  \n",
    "    The loop checks if the user's message contains any of the concerning keywords. If a match is found, it updates the global variable <code>userMood</code> to <code>\"distressed\"</code> and logs a warning to the console.</li>\n",
    "  \n",
    "  <li><strong>Efficiency through the list:</strong>  \n",
    "    By using a list, the code can process multiple keywords without needing separate <code>if</code> statements for each one. This reduces repetition and keeps the code simple and scalable.</li>\n",
    "  \n",
    "  <li><strong>Logical flow:</strong>  \n",
    "    The function reads the user's message, converts it to lowercase, and compares it against each keyword in the list. If a match occurs, the process stops with a <code>break</code>, ensuring unnecessary checks are avoided.</li>\n",
    "  \n",
    "  <li><strong>Example of practical use:</strong>  \n",
    "    For example, if the user writes, <code>\"I feel worthless\"</code>, the function detects the keyword <code>\"worthless\"</code>, triggers the warning, and adjusts the user's mood to <code>\"distressed\"</code>.</li>\n",
    "</ul>\n"
   ]
  },
  {
   "cell_type": "markdown",
   "metadata": {},
   "source": [
    "<hr>"
   ]
  },
  {
   "cell_type": "markdown",
   "metadata": {
    "vscode": {
     "languageId": "javascript"
    }
   },
   "source": [
    "<!-- Plan of Action Section -->\n",
    "<div style=\"margin-top: 20px; background-color: #e8f5e9; padding: 15px; border-radius: 10px;\">\n",
    "    <h2 style=\"color: #2e7d32; font-family: 'Times New Roman', sans-serif;\">Plan of Action to Improve My PPR for FRQ</h2>\n",
    "    <p style=\"font-size: 18px; color: #1b5e20;\">\n",
    "        <strong>Understand Key Concepts:</strong>\n",
    "        <ul style=\"margin-left: 20px;\">\n",
    "            <li>Review programming fundamentals, algorithms, and data analysis.</li>\n",
    "            <li>Utilize AP CSP prep books, online resources, and classroom notes.</li>\n",
    "        </ul>\n",
    "        <strong>Improve Code Complexity and Readability:</strong>\n",
    "        <ul style=\"margin-left: 20px;\">\n",
    "            <li>Enhance solutions by using efficient algorithms and appropriate data structures.</li>\n",
    "            <li>Use meaningful variable names and consistent formatting for clarity.</li>\n",
    "            <li>Break down code into functions to improve modularity and readability.</li>\n",
    "        </ul>\n",
    "        <strong>Thoroughly Explain Each Part of the Response:</strong>\n",
    "        <ul style=\"margin-left: 20px;\">\n",
    "            <li>Clearly describe the purpose of each function and major code segment.</li>\n",
    "            <li>Use precise terminology when explaining how the code meets the problem requirements.</li>\n",
    "            <li>Justify algorithm choices and explain how they improve efficiency or readability.</li>\n",
    "        </ul>\n",
    "        <strong>Focus on the Create Performance Task:</strong>\n",
    "        <ul style=\"margin-left: 20px;\">\n",
    "            <li>Follow the rubric carefully to meet all requirements.</li>\n",
    "            <li>Test and debug the program thoroughly.</li>\n",
    "            <li>Document the development process clearly and concisely.</li>\n",
    "        </ul>\n",
    "        <strong>Develop a Study Schedule:</strong>\n",
    "        <ul style=\"margin-left: 20px;\">\n",
    "            <li>Dedicate time daily to reviewing concepts and practicing FRQ-style coding questions.</li>\n",
    "            <li>Practice writing complete, well-commented solutions within a timed setting.</li>\n",
    "        </ul>\n",
    "        <strong>Seek Feedback and Guidance:</strong>\n",
    "        <ul style=\"margin-left: 20px;\">\n",
    "            <li>Discuss doubts with teachers or peers.</li>\n",
    "            <li>Get feedback on FRQ responses to refine explanations and improve clarity.</li>\n",
    "        </ul>\n",
    "        <strong>Simulate Full Exams:</strong>\n",
    "        <ul style=\"margin-left: 20px;\">\n",
    "            <li>Take practice exams under timed conditions to build confidence.</li>\n",
    "            <li>Analyze mistakes, refine explanations, and ensure all rubric criteria are met.</li>\n",
    "        </ul>\n",
    "    </p>\n",
    "</div>\n"
   ]
  }
 ],
 "metadata": {
  "language_info": {
   "name": "python"
  }
 },
 "nbformat": 4,
 "nbformat_minor": 2
}
