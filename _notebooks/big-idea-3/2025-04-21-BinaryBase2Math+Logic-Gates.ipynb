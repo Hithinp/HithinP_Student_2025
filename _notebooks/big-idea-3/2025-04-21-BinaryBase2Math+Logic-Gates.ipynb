{
 "cells": [
  {
   "cell_type": "raw",
   "metadata": {
    "vscode": {
     "languageId": "raw"
    }
   },
   "source": [
    "---\n",
    "toc: False\n",
    "comments: True\n",
    "layout: post\n",
    "title: Binary Base 2 Math + Logic Gates\n",
    "permalink: BinaryBase2Math+Logic-Gates\n",
    "author: Hithin\n",
    "---"
   ]
  },
  {
   "cell_type": "markdown",
   "metadata": {},
   "source": [
    "# Base 2 math and Logic Gates"
   ]
  },
  {
   "cell_type": "markdown",
   "metadata": {},
   "source": [
    "## Popcorn hack 1"
   ]
  },
  {
   "cell_type": "markdown",
   "metadata": {},
   "source": [
    "Example | Number | Is it Binary?\n",
    "1 | 101010 | ✅ Yes\n",
    "2 | 12301 | ❌ No (has 2 and 3)\n",
    "3 | 11001 | ✅ Yes"
   ]
  },
  {
   "cell_type": "markdown",
   "metadata": {},
   "source": [
    "## Popcorn Hack 2"
   ]
  },
  {
   "cell_type": "markdown",
   "metadata": {},
   "source": [
    "Example | Operation | Binary Numbers | Answer in Binary\n",
    "1 | Adding | 101 + 110 | 1011\n",
    "2 | Subtracting | 1101 - 1011 | 10\n",
    "3 | Adding | 111 + 1001 | 10000"
   ]
  },
  {
   "cell_type": "markdown",
   "metadata": {},
   "source": [
    "# Logic Gates"
   ]
  },
  {
   "cell_type": "markdown",
   "metadata": {},
   "source": [
    "## Popcorn hacks"
   ]
  },
  {
   "cell_type": "markdown",
   "metadata": {},
   "source": [
    "Popcorn Hack | Expression | Result | Why?\n",
    "1 | True or False and False | True | and happens first → False and False = False → True or False = True\n",
    "2 | not True and False | False | not happens first → not True = False → False and False = False\n",
    "3 | True or False and not False | True | not happens first → not False = True → False and True = False → True or False = True"
   ]
  },
  {
   "cell_type": "markdown",
   "metadata": {},
   "source": [
    "# Homework Hack 1"
   ]
  },
  {
   "cell_type": "code",
   "execution_count": null,
   "metadata": {},
   "outputs": [],
   "source": [
    "# Function to convert decimal to binary\n",
    "def decimal_to_binary(decimal_number):\n",
    "    if decimal_number == 0:\n",
    "        return \"0\"\n",
    "    is_negative = decimal_number < 0\n",
    "    decimal_number = abs(decimal_number)\n",
    "    binary = \"\"\n",
    "    while decimal_number > 0:\n",
    "        binary = str(decimal_number % 2) + binary\n",
    "        decimal_number = decimal_number // 2\n",
    "    if is_negative:\n",
    "        binary = \"-\" + binary\n",
    "    return binary\n",
    "\n",
    "# Function to convert binary to decimal\n",
    "def binary_to_decimal(binary_string):\n",
    "    is_negative = binary_string.startswith(\"-\")\n",
    "    if is_negative:\n",
    "        binary_string = binary_string[1:]\n",
    "    decimal = 0\n",
    "    for i, digit in enumerate(reversed(binary_string)):\n",
    "        decimal += int(digit) * (2 ** i)\n",
    "    if is_negative:\n",
    "        decimal = -decimal\n",
    "    return decimal\n",
    "\n",
    "# 🧪 Testing the functions\n",
    "print(\"Decimal to Binary Tests:\")\n",
    "print(f\"10 → {decimal_to_binary(10)}\")  # Output: 1010\n",
    "print(f\"-10 → {decimal_to_binary(-10)}\")  # Output: -1010\n",
    "print(f\"0 → {decimal_to_binary(0)}\")    # Output: 0\n",
    "\n",
    "print(\"\\nBinary to Decimal Tests:\")\n",
    "print(f\"1010 → {binary_to_decimal('1010')}\")  # Output: 10\n",
    "print(f\"-1010 → {binary_to_decimal('-1010')}\")  # Output: -10\n",
    "print(f\"0 → {binary_to_decimal('0')}\")    # Output: 0\n"
   ]
  },
  {
   "cell_type": "markdown",
   "metadata": {},
   "source": [
    "## Homework 2"
   ]
  },
  {
   "cell_type": "code",
   "execution_count": null,
   "metadata": {},
   "outputs": [],
   "source": [
    "import time\n",
    "\n",
    "difficulty = input(\"Enter difficulty (easy, medium, hard): \").lower().strip()\n",
    "\n",
    "while difficulty != \"easy\" and difficulty != \"medium\" and difficulty != \"hard\":\n",
    "    print(\"Please enter a valid difficulty level.\")\n",
    "    difficulty = input(\"Enter difficulty (easy, medium, hard): \").lower().strip()\n",
    "    time.sleep(0.5)\n",
    "\n",
    "print(\"Difficulty set to:\", difficulty)\n"
   ]
  },
  {
   "cell_type": "markdown",
   "metadata": {},
   "source": []
  }
 ],
 "metadata": {
  "language_info": {
   "name": "python"
  }
 },
 "nbformat": 4,
 "nbformat_minor": 2
}
