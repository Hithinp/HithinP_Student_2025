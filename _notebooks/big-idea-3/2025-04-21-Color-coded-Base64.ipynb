{
 "cells": [
  {
   "cell_type": "raw",
   "metadata": {
    "vscode": {
     "languageId": "raw"
    }
   },
   "source": [
    "---\n",
    "toc: False\n",
    "comments: True\n",
    "layout: post\n",
    "title: Color Codes/Images/Base64\n",
    "permalink: Color-coded-Base64\n",
    "author: Hithin\n",
    "---"
   ]
  },
  {
   "cell_type": "markdown",
   "metadata": {},
   "source": [
    "\n",
    "<html lang=\"en\">\n",
    "<head>\n",
    "  <meta charset=\"UTF-8\">\n",
    "  <title>Mood Board + Base64 Image</title>\n",
    "  <style>\n",
    "    body {\n",
    "      font-family: Arial, sans-serif;\n",
    "      padding: 20px;\n",
    "    }\n",
    "    h2 {\n",
    "      margin-top: 40px;\n",
    "    }\n",
    "    .color-box {\n",
    "      width: 150px;\n",
    "      height: 150px;\n",
    "      display: inline-block;\n",
    "      margin: 10px;\n",
    "      border-radius: 10px;\n",
    "      box-shadow: 0 0 5px rgba(0,0,0,0.2);\n",
    "      text-align: center;\n",
    "      line-height: 150px;\n",
    "      font-weight: bold;\n",
    "      color: white;\n",
    "    }\n",
    "    .base64-image {\n",
    "      margin-top: 20px;\n",
    "      border-radius: 10px;\n",
    "      width: 200px;\n",
    "      height: auto;\n",
    "      box-shadow: 0 0 10px rgba(0,0,0,0.3);\n",
    "    }\n",
    "  </style>\n",
    "</head>\n",
    "<body>\n",
    "\n",
    "  <h1>🎨 Mood Board + Base64 Image</h1>\n",
    "\n",
    "  <h2>My Mood Colors</h2>\n",
    "  <div class=\"color-box\" style=\"background-color: #FF6F61;\">#FF6F61</div>\n",
    "  <div class=\"color-box\" style=\"background-color: #6B5B95;\">#6B5B95</div>\n",
    "  <div class=\"color-box\" style=\"background-color: #88B04B;\">#88B04B</div>\n",
    "  <div class=\"color-box\" style=\"background-color: #F7CAC9;\">#F7CAC9</div>\n",
    "  <div class=\"color-box\" style=\"background-color: #92A8D1;\">#92A8D1</div>\n",
    "\n",
    "  <h2>👤 My Profile Picture (Base64)</h2>\n",
    "  <!-- Replace the base64 string below with your own from base64-image.de -->\n",
    "  <img\n",
    "    class=\"base64-image\"\n",
    "    src=\"data:image/png;base64,iVBORw0KGgoAAAANSUhEUgAAAAUA\n",
    "    AAAFCAYAAACNbyblAAAAHElEQVQI12P4\n",
    "    //8/w38GIAXDIBKE0DHxgljNBAAO9TXL0Y4OHwAAAABJRU5ErkJggg==\"\n",
    "    alt=\"Base64 Image\"\n",
    "  >\n",
    "\n",
    "</body>\n",
    "</html>\n"
   ]
  }
 ],
 "metadata": {
  "language_info": {
   "name": "python"
  }
 },
 "nbformat": 4,
 "nbformat_minor": 2
}
