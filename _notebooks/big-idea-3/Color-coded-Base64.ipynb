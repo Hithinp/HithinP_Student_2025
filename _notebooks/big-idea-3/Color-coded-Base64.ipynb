{
 "cells": [
  {
   "cell_type": "raw",
   "metadata": {
    "vscode": {
     "languageId": "raw"
    }
   },
   "source": [
    "---\n",
    "toc: False\n",
    "comments: True\n",
    "layout: post\n",
    "title: Color Codes/Images/Base64\n",
    "permalink: Color-coded-Base64\n",
    "author: Hithin\n",
    "---"
   ]
  }
 ],
 "metadata": {
  "language_info": {
   "name": "python"
  }
 },
 "nbformat": 4,
 "nbformat_minor": 2
}
